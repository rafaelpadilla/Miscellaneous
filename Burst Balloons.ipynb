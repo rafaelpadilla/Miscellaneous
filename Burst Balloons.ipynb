{
 "cells": [
  {
   "cell_type": "markdown",
   "metadata": {},
   "source": [
    "Burst Balloons\n",
    "======"
   ]
  },
  {
   "cell_type": "markdown",
   "metadata": {},
   "source": [
    "* [Problem Description](#problem_description)\n",
    "* [Test Cases](#test_cases)\n",
    "* [Approach 1: Trying all the possibilities](#approach_1)\n",
    "* [Solution 3: Analytical solution with Least Squares Error minimization](#least-squares-error-minimization)\n",
    "* [Comparing all 3 solutions](#comparing_solutions)\n",
    "\n",
    "In this problem we will find the best line that fits a model given by a real dataset. For theory details, please see [Linear Regression Theory](Linear_Regression_Theory.ipynb)."
   ]
  },
  {
   "cell_type": "markdown",
   "metadata": {},
   "source": [
    "### Problem Description  <a id='problem_description'></a>\n",
    "\n",
    "Given **n** balloons, indexed from **0** to **n-1**. Each balloon is painted with a number on it represented by array **nums**. You are asked to burst all the balloons. If the you burst balloon **i** you will get **nums[left] $*$ nums[i] $*$ nums[right]** coins. Here **left** and **right** are adjacent indices of **i**. After the burst, the **left** and **right** then becomes adjacent.\n",
    "\n",
    "Find the maximum coins you can collect by bursting the balloons wisely.\n",
    "\n",
    "Note:<br>\n",
    "(1) You may imagine **nums[-1] = nums[n] = 1**. They are not real therefore you can not burst them.<br>\n",
    "(2) 0 ≤ **n** ≤ 500, 0 ≤ **nums[i]** ≤ 100\n",
    "\n",
    "Example:\n",
    "\n",
    "Given: **[3, 1, 5, 8]**<br>\n",
    "Return: **167**\n",
    "\n",
    "Source: https://leetcode.com/problems/burst-balloons/description/"
   ]
  },
  {
   "cell_type": "markdown",
   "metadata": {},
   "source": [
    "### Test Cases <a id='test_cases'></a>"
   ]
  },
  {
   "cell_type": "markdown",
   "metadata": {},
   "source": [
    "I generated a few test cases so you can test your own implementations:\n",
    "\n",
    "![](figures/burst_balloon_test_cases.png)\n"
   ]
  },
  {
   "cell_type": "markdown",
   "metadata": {},
   "source": [
    "### Approach 1: Trying all the possibilities <a id='approach_1'></a>\n",
    "\n",
    "One way of solving this problem is to try all possible ways of bursting the balloons and see which order maximizes the final score. This can also be viewed as a **top-bottom** approach.<br>\n",
    "For the example presented by the problem (balloons [3, 1, 5, 8]), I created the following tree showing all possible cases:\n",
    "\n",
    "![](figures/burst_balloon_ex1.png)\n",
    "\n",
    "\n",
    "First we start with the balloons 3, 1, 5 and 8. <br>\n",
    "We have 4 possible options of bursting the balloons. We could burst balloon #3 or balloon #1 or balloon #5 or balloon #8 as described in the first level from top down in the image.<br>\n",
    "If we burst balloon 3 we will score 3 points, once $1*3*1=3$ (nums[left] $*$ nums[i] $*$ nums[right]). And as it is the first balloon we are bursting, the accumulated score is 3, shown as **acc** in the chart.<br>\n",
    "\n",
    "**Observation:** According to Note (2), the first $1$ is used because as the balloon we are bursting is the most left in this sequence, there is no other balloon on its left, therefore we will always consider its left balloon as $1$. This same rule applies for bursting the most right balloon.\n",
    "\n",
    "Then we are left with balloons 1, 5 and 8 as can be seen in the sequence. So we can continue exploring all the possible options of eliminating the balloons and in the end we observe all achievable final scores which are highlighted in the final branches of the tree.<br>\n",
    "See that the highest possible score is **167** and can be obtained shooting the balloons 1, 5, 3 and 8 in sequence.\n",
    "\n",
    "In this approach we will end up with $n!$ scores to decide which one is the highest with complexity equals to $O(n!)$.<br>\n",
    "Where $n$ is the number of balloons we begin with. In this example we have $n=4$ resulting in $4!=24$ possible scores.<br>\n",
    "Using this approach our algorithm has $O(24)$ operations.<p>\n",
    "\n",
    "The code below shows my implementation of this approach."
   ]
  },
  {
   "cell_type": "code",
   "execution_count": 37,
   "metadata": {
    "scrolled": false
   },
   "outputs": [
    {
     "name": "stdout",
     "output_type": "stream",
     "text": [
      "Max score: 819\n"
     ]
    }
   ],
   "source": [
    "input = [5,2,3,4,1,9,10] \n",
    "# You could also enter the balloons as: \n",
    "# input = '3158'\n",
    "\n",
    "def operate(input, score, max_score):\n",
    "    # Loop through each  balloon\n",
    "    for i in range(len(input)):\n",
    "        newinput = input[:i] + input[i+1:]\n",
    "        # If you shoot most left balloon, the left balloon's score is 1 by default\n",
    "        if i == 0: i_= 1 \n",
    "        else: i_ = int(input[i-1])\n",
    "        # If you shoot most right balloon, the right balloon's score is 1 by default\n",
    "        if i == len(input)-1:  ii = 1\n",
    "        else: ii = int(input[i+1])\n",
    "        # Calculate score\n",
    "        new_score = i_*int(input[i])*ii\n",
    "        # Accumulated score\n",
    "        acc = new_score + score\n",
    "        # Uncomment this line to print all possible final scores\n",
    "        # if (len(newinput) == 0): print('Final score:', acc)\n",
    "        # If there is no more balloons to shoot, check if achieved score is the highest\n",
    "        if ((len(newinput) == 0) & (acc > max_score)):\n",
    "            max_score = acc\n",
    "        else:\n",
    "            # Go for next round\n",
    "            max_score = operate(newinput, acc, max_score)\n",
    "    return max_score\n",
    "\n",
    "# Start bursting the balloons\n",
    "score = operate(input, 0, 0)\n",
    "# Showing the results\n",
    "print('Max score:', score)    "
   ]
  },
  {
   "attachments": {},
   "cell_type": "markdown",
   "metadata": {},
   "source": [
    "### Approach 2: Using memorization<a id='approach_2'></a>\n",
    "\n",
    "Another way to solve is to avoid calculating the same scores more than once.<br>\n",
    "After popping each balloon a new branch of possibilities is produced. The image below highlights the new possible bursting options after each bursting\n",
    "\n",
    "![](figures/burst_balloon_ex2.png)\n",
    "\n",
    "For the first bursting we have four possibilities (bursting balloon 3, 1, 5 or 8), leaving us with 4 possible balloons left:  [1,5,8], [3,5,8], [3,1,8], [3,1,5] (shown in red).\n",
    "For the second bursting we have 12 possibilities: [5,8], [1,8], [1,5], [5,8], [3,8] ... [3,1] (shown in green).\n",
    "For the 3rd bursting we have 24 possibilities: [8], [5], [8], [1], [5] ... [3] (shown in blue).\n",
    "For the 4th and last bursting we have only one balloon left, leading us to 24 possibilities: [8], [5], [8], [1], [5] ... [3] (shown in yellow).\n",
    "\n",
    "If we pay attention we can see that for the second bursting on, some of the options are repeated. The tree below shows that among all possible two-balloon options, we are left with balloons [5,8] twice.\n",
    "\n",
    "![](figures/burst_balloon_ex3.png)\n",
    "\n",
    "It is easily seen that other options of 2 balloons also repeats twice: [1,8], [1,5], [3,8] and [3,5]. It means that the operations we are performing in each of those branches are redundant! <br>\n",
    "If we store those accumulated scores into memory we avoid unnecessary operations and improve our algorithm performance. It means we just have to calculate those scores once.\n",
    "\n",
    "Each branch has its own accumulated scores. For example, if we consider the two branches with balloons [5,8], we see that it contributes with two gains each. If we burst balloon 5, the gain is 48 and if we burst balloon 8, the gain is 45 as shown below: \n",
    "\n",
    "![](figures/burst_balloon_ex4.png)\n",
    "\n",
    "The gains are the same, because they are generated by popping up the same balloons.<br>\n",
    "\n",
    "**As our goal is to obtain the highest possible score, we will only store the highest gain**, improving even more the efficiency of our algorithm.<br>\n",
    "If we follow this appproach, our tree will look like this:\n",
    "\n",
    "\n",
    "\n",
    "\n",
    "\n",
    "\n",
    "First we start with the balloons 3, 1, 5 and 8. <br>\n",
    "We have 4 possible options of bursting the balloons. We could burst balloon #3 or balloon #1 or balloon #5 or balloon #8 as described in the first level from top down in the image.<br>\n",
    "If we burst balloon 3 we will score 3 points, once $1*3*1=3$ (nums[left] $*$ nums[i] $*$ nums[right]). And as it is the first balloon we are bursting, the accumulated score is 3, shown as **acc** in the chart.<br>\n",
    "\n",
    "**Observation:** According to Note (2), the first $1$ is used because as the balloon we are bursting is the most left in this sequence, there is no other balloon on its left, therefore we will always consider its left balloon as $1$. This same rule applies for bursting the most right balloon.\n",
    "\n",
    "Then we are left with balloons 1, 5 and 8 as can be seen in the sequence. So we can continue exploring all the possible options of eliminating the balloons and in the end we observe all achievable final scores which are highlighted in the final branches of the tree.<br>\n",
    "See that the highest possible score is **167** and can be obtained shooting the balloons 1, 5, 3 and 8 in sequence.\n",
    "\n",
    "In this approach we will end up with $n!$ scores to decide which one is the highest with complexity equals to $O(n!)$.<br>\n",
    "Where $n$ is the number of balloons we begin with. In this example we have $n=4$ resulting in $4!=24$ possible scores.<br>\n",
    "Using this approach our algorithm has $O(24)$ operations.<p>\n",
    "\n",
    "The code below shows my implementation of this approach."
   ]
  },
  {
   "cell_type": "code",
   "execution_count": 59,
   "metadata": {},
   "outputs": [
    {
     "name": "stdout",
     "output_type": "stream",
     "text": [
      "Input: [10, 4, 10, 9, 7, 9, 8, 1, 1] Output: 3507\n",
      "Input: [1, 6, 2, 1, 9, 5, 4, 1, 9] Output: 1305\n",
      "Input: [1, 10, 3, 1, 8, 10, 8, 7, 5] Output: 2844\n",
      "Input: [6, 9, 8, 3, 5, 2, 1, 10, 1] Output: 1980\n"
     ]
    }
   ],
   "source": [
    "class Solution(object):\n",
    "    def maxCoins(self, nums):\n",
    "        \"\"\"\n",
    "        :type nums: List[int]\n",
    "        :rtype: int\n",
    "        \"\"\"\n",
    "        nums = [1] + nums + [1]\n",
    "        n = len(nums)\n",
    "        dp = [[0] * n for _ in range(n)]\n",
    "        def calculate(i, j):\n",
    "            if dp[i][j] or j == i + 1: # in memory or gap < 2\n",
    "                return dp[i][j]\n",
    "            coins = 0\n",
    "            for k in range(i+1, j): # find the last balloon\n",
    "                coins = max(coins, nums[i] * nums[k] * nums[j] + calculate(i, k) + calculate(k, j))\n",
    "            dp[i][j] = coins\n",
    "            return coins\n",
    "\n",
    "        return calculate(0, n-1)\n",
    "\n",
    "sol = Solution()\n",
    "\n",
    "import random\n",
    "\n",
    "for j in range(4):\n",
    "    n = 9\n",
    "    array = []\n",
    "    for i in range(n):\n",
    "        array.append(random.randint(1, 10))\n",
    "\n",
    "    res  = sol.maxCoins(nums=array)\n",
    "    print('Input: %s Output: %s' % (array, res))\n",
    "\n",
    "\n",
    "# sol.maxCoins(nums=[5,2,3,4,1,9,10] )"
   ]
  }
 ],
 "metadata": {
  "kernelspec": {
   "display_name": "Python 3",
   "language": "python",
   "name": "python3"
  },
  "language_info": {
   "codemirror_mode": {
    "name": "ipython",
    "version": 3
   },
   "file_extension": ".py",
   "mimetype": "text/x-python",
   "name": "python",
   "nbconvert_exporter": "python",
   "pygments_lexer": "ipython3",
   "version": "3.5.3"
  },
  "varInspector": {
   "cols": {
    "lenName": 16,
    "lenType": 16,
    "lenVar": 40
   },
   "kernels_config": {
    "python": {
     "delete_cmd_postfix": "",
     "delete_cmd_prefix": "del ",
     "library": "var_list.py",
     "varRefreshCmd": "print(var_dic_list())"
    },
    "r": {
     "delete_cmd_postfix": ") ",
     "delete_cmd_prefix": "rm(",
     "library": "var_list.r",
     "varRefreshCmd": "cat(var_dic_list()) "
    }
   },
   "types_to_exclude": [
    "module",
    "function",
    "builtin_function_or_method",
    "instance",
    "_Feature"
   ],
   "window_display": false
  }
 },
 "nbformat": 4,
 "nbformat_minor": 2
}
