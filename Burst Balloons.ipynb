{
 "cells": [
  {
   "cell_type": "markdown",
   "metadata": {},
   "source": [
    "Burst Balloons\n",
    "======\n",
    "\n",
    "Description:\n",
    "\n",
    "Given **n** balloons, indexed from **0** to **n-1**. Each balloon is painted with a number on it represented by array **nums**. You are asked to burst all the balloons. If the you burst balloon **i** you will get **nums[left] * nums[i] * nums[right]** coins. Here **left** and **right** are adjacent indices of **i**. After the burst, the **left** and **right** then becomes adjacent.\n",
    "\n",
    "Find the maximum coins you can collect by bursting the balloons wisely.\n",
    "\n",
    "Note:<br>\n",
    "(1) You may imagine **nums[-1] = nums[n] = 1**. They are not real therefore you can not burst them.<br>\n",
    "(2) 0 ≤ **n** ≤ 500, 0 ≤ **nums[i]** ≤ 100\n",
    "\n",
    "Example:\n",
    "\n",
    "Given **[3, 1, 5, 8]**<br>\n",
    "Return **167**\n",
    "\n",
    "Source? https://leetcode.com/problems/burst-balloons/description/Source: "
   ]
  }
 ],
 "metadata": {
  "kernelspec": {
   "display_name": "Python 3",
   "language": "python",
   "name": "python3"
  },
  "language_info": {
   "codemirror_mode": {
    "name": "ipython",
    "version": 3
   },
   "file_extension": ".py",
   "mimetype": "text/x-python",
   "name": "python",
   "nbconvert_exporter": "python",
   "pygments_lexer": "ipython3",
   "version": "3.6.1"
  }
 },
 "nbformat": 4,
 "nbformat_minor": 2
}
